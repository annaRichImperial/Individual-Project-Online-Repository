{
 "cells": [
  {
   "cell_type": "code",
   "execution_count": 2,
   "metadata": {},
   "outputs": [
    {
     "name": "stdout",
     "output_type": "stream",
     "text": [
      "nothing\n"
     ]
    }
   ],
   "source": [
    "from __future__ import division\n",
    "import nltk\n",
    "import os\n",
    "import sys\n",
    "from nltk.corpus.reader.plaintext import PlaintextCorpusReader\n",
    "from nltk.sem import lfg\n",
    "\n",
    "def parse(text):\n",
    "    print('nothing')\n",
    "    sent = ['hello']\n",
    "    #sent.to_depgraph()\n",
    "\n",
    "    #maybe turn into unicode first?\n",
    "\n",
    "def main():\n",
    "    file_name = sys.argv[1]\n",
    "    newcorpus = PlaintextCorpusReader('data', '.*')\n",
    "    files = newcorpus.fileids()\n",
    "    for f in files:\n",
    "        parse(f)\n",
    "\n",
    "\n",
    "if __name__ == \"__main__\":\n",
    "    main()\n",
    "\n",
    "\n"
   ]
  },
  {
   "cell_type": "code",
   "execution_count": null,
   "metadata": {},
   "outputs": [],
   "source": []
  }
 ],
 "metadata": {
  "kernelspec": {
   "display_name": "Python 3",
   "language": "python",
   "name": "python3"
  },
  "language_info": {
   "codemirror_mode": {
    "name": "ipython",
    "version": 3
   },
   "file_extension": ".py",
   "mimetype": "text/x-python",
   "name": "python",
   "nbconvert_exporter": "python",
   "pygments_lexer": "ipython3",
   "version": "3.7.3"
  }
 },
 "nbformat": 4,
 "nbformat_minor": 2
}
