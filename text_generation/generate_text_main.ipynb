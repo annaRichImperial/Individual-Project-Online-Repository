{
 "cells": [
  {
   "cell_type": "code",
   "execution_count": 58,
   "metadata": {
    "scrolled": true
   },
   "outputs": [
    {
     "name": "stdout",
     "output_type": "stream",
     "text": [
      "britain and america were making a great deal to understand each other . this system , this one of english genius , has been inspired by a great deal about our friendship and friendship , and in spite of all the great qualities of the old and the splendid , the way people feel about each other 's welcome , the way people feel about each other 's happiness , and of their loyalty and affection each other makes a difference . in spite of all the scientific and continuing needs of the world and for some of the most practical and happier effort that has come , the genius of scientists and engineers must be immense . you have shown by the way in which you have celebrated the jubilee that this was not an experience of happiness . my father , king george the valiant , developed these beliefs and ideas , but we do not always reflect that these things are not always easy . for my husband and myself and for our children , the year that is passing has celebrated the centenary of the festival of peace . all the great celebrations of the world 's whole festival put together all the great christian ideals . some of our old friends will never join the circle as full members , but we can at least influence the future by our everyday behaviour . when i first went to the islands , they were a british and ...\n"
     ]
    }
   ],
   "source": [
    "from fastai_old.text import *\n",
    "import html\n",
    "import spacy \n",
    "\n",
    "spacy.load('en_core_web_sm')\n",
    "\n",
    "\n",
    "LM_PATH = Path('data_inf/custom_lm/')\n",
    "# LM_PATH = Path('data_inf/custom_lm/test_vocab/')\n",
    "# LM_PATH = Path('data_inf/pretrained/')\n",
    "LM_PATH.mkdir(exist_ok=True)\n",
    "\n",
    "em_sz,nh,nl = 400,1150,3\n",
    "\n",
    "wd=1e-7\n",
    "bptt=70\n",
    "bs=1\n",
    "opt_fn = partial(optim.Adam, betas=(0.8, 0.99))\n",
    "\n",
    "# itos_name = 'itos_wt103.pkl'\n",
    "# model_name = 'pretrained'\n",
    "\n",
    "# itos_name = 'itos_imdb.pkl'\n",
    "# model_name = 'lm_last_ft'\n",
    "\n",
    "# itos_name = 'itos_alice_nop.pkl'\n",
    "# model_name = 'alice_nop_lm_30epochs'\n",
    "\n",
    "# itos_name = 'itos_alice_processed.pkl'\n",
    "# model_name = 'alice_processed_lm_30epochs'\n",
    "\n",
    "itos_name = 'itos_first_three_decades_test.pkl'\n",
    "model_name = 'first_three_decades_test_lm_30epochs'\n",
    "\n",
    "itos2 = pickle.load((LM_PATH/itos_name).open('rb'))\n",
    "stoi2 = collections.defaultdict(lambda:-1, {v:k for k,v in enumerate(itos2)})\n",
    "\n",
    "trn_lm = np.array([list([0,0])])\n",
    "val_lm = np.array([list([0,0])])\n",
    "\n",
    "vs=len(itos2)\n",
    "\n",
    "trn_dl = LanguageModelLoader(np.concatenate(trn_lm), bs, bptt)\n",
    "val_dl = LanguageModelLoader(np.concatenate(val_lm), bs, bptt)\n",
    "md = LanguageModelData(LM_PATH, 1, vs, trn_dl, val_dl, bs=bs, bptt=bptt)\n",
    "\n",
    "drops = np.array([0.25, 0.1, 0.2, 0.02, 0.15])*0.7\n",
    "learner= md.get_model(opt_fn, em_sz, nh, nl, \n",
    "    dropouti=drops[0], dropout=drops[1], wdrop=drops[2], dropoute=drops[3], dropouth=drops[4])\n",
    "\n",
    "learner.load(model_name)\n",
    "m = learner.model\n",
    "vs\n",
    "\n",
    "\n",
    "def generate_text(m, s, l=20):\n",
    "    m[0].bs=1  # Set batch size to 1\n",
    "    m.eval()  # Turn off dropout\n",
    "    m.reset()  # Reset hidden state\n",
    "    m[0].bs=bs  # Put the batch size back to what it was\n",
    "\n",
    "    ss = s.lower().split()\n",
    "    si = [stoi2[w] for w in ss]\n",
    "    g = np.array([si])\n",
    "    f = torch.LongTensor(g)\n",
    "    t = torch.autograd.Variable(f)\n",
    "    \n",
    "    res,*_ = m(t)\n",
    "\n",
    "    print(s, end=' ')\n",
    "    for i in range(l):\n",
    "#         n = res[-1].topk(5)[1]  # top word\n",
    "        n = torch.multinomial(res[-1].exp(), 2)  # drawing from probability distribution\n",
    "        n = n[1] if n.data[0]==0 else n[0]\n",
    "        print(itos2[int(n)], end=' ')\n",
    "        res,*_ = m(n.unsqueeze(0).unsqueeze(0))  # sometimes need an extra .unsqueeze(0)\n",
    "    print('...')\n",
    "    \n",
    "    \n",
    "generate_text(m, \"britain\", l=250)"
   ]
  }
 ],
 "metadata": {
  "kernelspec": {
   "display_name": "Python 3",
   "language": "python",
   "name": "python3"
  },
  "language_info": {
   "codemirror_mode": {
    "name": "ipython",
    "version": 3
   },
   "file_extension": ".py",
   "mimetype": "text/x-python",
   "name": "python",
   "nbconvert_exporter": "python",
   "pygments_lexer": "ipython3",
   "version": "3.7.3"
  }
 },
 "nbformat": 4,
 "nbformat_minor": 2
}
