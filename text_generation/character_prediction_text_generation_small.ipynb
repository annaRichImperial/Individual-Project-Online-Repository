{
 "cells": [
  {
   "cell_type": "code",
   "execution_count": 2,
   "metadata": {},
   "outputs": [
    {
     "name": "stderr",
     "output_type": "stream",
     "text": [
      "Using TensorFlow backend.\n"
     ]
    },
    {
     "name": "stdout",
     "output_type": "stream",
     "text": [
      "Total Characters:  3692\n",
      "Total Vocab:  33\n",
      "Total Patterns:  3592\n"
     ]
    },
    {
     "name": "stderr",
     "output_type": "stream",
     "text": [
      "WARNING: Logging before flag parsing goes to stderr.\n",
      "W0720 14:08:06.411260  2336 deprecation_wrapper.py:119] From C:\\Users\\annah\\Anaconda4\\lib\\site-packages\\keras\\backend\\tensorflow_backend.py:74: The name tf.get_default_graph is deprecated. Please use tf.compat.v1.get_default_graph instead.\n",
      "\n",
      "W0720 14:08:06.635516  2336 deprecation_wrapper.py:119] From C:\\Users\\annah\\Anaconda4\\lib\\site-packages\\keras\\backend\\tensorflow_backend.py:517: The name tf.placeholder is deprecated. Please use tf.compat.v1.placeholder instead.\n",
      "\n",
      "W0720 14:08:06.670948  2336 deprecation_wrapper.py:119] From C:\\Users\\annah\\Anaconda4\\lib\\site-packages\\keras\\backend\\tensorflow_backend.py:4138: The name tf.random_uniform is deprecated. Please use tf.random.uniform instead.\n",
      "\n",
      "W0720 14:08:11.696178  2336 deprecation_wrapper.py:119] From C:\\Users\\annah\\Anaconda4\\lib\\site-packages\\keras\\backend\\tensorflow_backend.py:133: The name tf.placeholder_with_default is deprecated. Please use tf.compat.v1.placeholder_with_default instead.\n",
      "\n",
      "W0720 14:08:11.768872  2336 deprecation.py:506] From C:\\Users\\annah\\Anaconda4\\lib\\site-packages\\keras\\backend\\tensorflow_backend.py:3445: calling dropout (from tensorflow.python.ops.nn_ops) with keep_prob is deprecated and will be removed in a future version.\n",
      "Instructions for updating:\n",
      "Please use `rate` instead of `keep_prob`. Rate should be set to `rate = 1 - keep_prob`.\n",
      "W0720 14:08:12.089587  2336 deprecation_wrapper.py:119] From C:\\Users\\annah\\Anaconda4\\lib\\site-packages\\keras\\backend\\tensorflow_backend.py:174: The name tf.get_default_session is deprecated. Please use tf.compat.v1.get_default_session instead.\n",
      "\n",
      "W0720 14:08:14.226880  2336 deprecation_wrapper.py:119] From C:\\Users\\annah\\Anaconda4\\lib\\site-packages\\keras\\optimizers.py:790: The name tf.train.Optimizer is deprecated. Please use tf.compat.v1.train.Optimizer instead.\n",
      "\n"
     ]
    },
    {
     "name": "stdout",
     "output_type": "stream",
     "text": [
      "Seed:\n",
      "\" y when members of the same family try to come together, or if separated by distance or events meet i \"\n",
      "  ao  ao  ao  ao  ao  ao  ao  ao  ao  ao  ao  ao  ao  ao  ao  ao  ao  ao  ao  ao  ao  ao  ao  ao  ao  ao  ao  ao  ao  ao  ao  ao  ao  ao  ao  ao  ao  ao  ao  ao  ao  ao  ao  ao  ao  ao  ao  ao  ao  ao  ao  ao  ao  ao  ao  ao  ao  ao  ao  ao  ao  ao  ao  ao  ao  ao  ao  ao  ao  ao  ao  ao  ao  ao  ao  ao  ao  ao  ao  ao  ao  ao  ao  ao  ao  ao  ao  ao  ao  ao  ao  ao  ao  ao  ao  ao  ao  ao  ao  ao  ao  ao  ao  ao  ao  ao  ao  ao  ao  ao  ao  ao  ao  ao  ao  ao  ao  ao  ao  ao  ao  ao  ao  ao  ao  ao  ao  ao  ao  ao  ao  ao  ao  ao  ao  ao  ao  ao  ao  ao  ao  ao  ao  ao  ao  ao  ao  ao  ao  ao  ao  ao  ao  ao  ao  ao  ao  ao  ao  ao  ao  ao  ao  ao  ao  ao  ao  ao  ao  ao  ao  ao  ao  ao  ao  ao  ao  ao  ao  ao  ao  ao  ao  ao  ao  ao  ao  ao  ao  ao  ao  ao  ao  ao  ao  ao  ao  ao  ao  ao  ao  ao  ao  ao  ao  ao  ao  ao  ao  ao  ao  ao  ao  ao  ao  ao  ao  ao  ao  ao  ao  ao  ao  ao  ao  ao  ao  ao  ao  ao  ao  ao  ao  ao  ao  ao  ao  ao  ao  ao  ao  ao  ao  ao  ao  ao  ao  ao  ao  ao\n",
      "Done.\n"
     ]
    }
   ],
   "source": [
    "# Load LSTM network and generate text\n",
    "import sys\n",
    "import numpy\n",
    "from keras.models import Sequential\n",
    "from keras.layers import Dense\n",
    "from keras.layers import Dropout\n",
    "from keras.layers import LSTM\n",
    "from keras.callbacks import ModelCheckpoint\n",
    "from keras.utils import np_utils\n",
    "# load ascii text and covert to lowercase\n",
    "filename = \"data\\\\1952.txt\"\n",
    "raw_text = open(filename).read()\n",
    "raw_text = raw_text.lower()\n",
    "# create mapping of unique chars to integers, and a reverse mapping\n",
    "chars = sorted(list(set(raw_text)))\n",
    "char_to_int = dict((c, i) for i, c in enumerate(chars))\n",
    "int_to_char = dict((i, c) for i, c in enumerate(chars))\n",
    "# summarize the loaded data\n",
    "n_chars = len(raw_text)\n",
    "n_vocab = len(chars)\n",
    "print (\"Total Characters: \", n_chars)\n",
    "print (\"Total Vocab: \", n_vocab)\n",
    "# prepare the dataset of input to output pairs encoded as integers\n",
    "seq_length = 100\n",
    "dataX = []\n",
    "dataY = []\n",
    "for i in range(0, n_chars - seq_length, 1):\n",
    "    seq_in = raw_text[i:i + seq_length]\n",
    "    seq_out = raw_text[i + seq_length]\n",
    "    dataX.append([char_to_int[char] for char in seq_in])\n",
    "    dataY.append(char_to_int[seq_out])\n",
    "n_patterns = len(dataX)\n",
    "print (\"Total Patterns: \", n_patterns)\n",
    "# reshape X to be [samples, time steps, features]\n",
    "X = numpy.reshape(dataX, (n_patterns, seq_length, 1))\n",
    "# normalize\n",
    "X = X / float(n_vocab)\n",
    "# one hot encode the output variable\n",
    "y = np_utils.to_categorical(dataY)\n",
    "# define the LSTM model\n",
    "model = Sequential()\n",
    "model.add(LSTM(256, input_shape=(X.shape[1], X.shape[2])))\n",
    "model.add(Dropout(0.2))\n",
    "model.add(Dense(y.shape[1], activation='softmax'))\n",
    "# load the network weights\n",
    "filename = \"weights-improvement-20-2.8626.hdf5\"\n",
    "model.load_weights(filename)\n",
    "model.compile(loss='categorical_crossentropy', optimizer='adam')\n",
    "# pick a random seed\n",
    "start = numpy.random.randint(0, len(dataX)-1)\n",
    "pattern = dataX[start]\n",
    "print (\"Seed:\")\n",
    "print (\"\\\"\", ''.join([int_to_char[value] for value in pattern]), \"\\\"\")\n",
    "# generate characters\n",
    "for i in range(1000):\n",
    "    x = numpy.reshape(pattern, (1, len(pattern), 1))\n",
    "    x = x / float(n_vocab)\n",
    "    prediction = model.predict(x, verbose=0)\n",
    "    index = numpy.argmax(prediction)\n",
    "    result = int_to_char[index]\n",
    "    seq_in = [int_to_char[value] for value in pattern]\n",
    "    sys.stdout.write(result)\n",
    "    pattern.append(index)\n",
    "    pattern = pattern[1:len(pattern)]\n",
    "print (\"\\nDone.\")"
   ]
  },
  {
   "cell_type": "code",
   "execution_count": null,
   "metadata": {},
   "outputs": [],
   "source": []
  }
 ],
 "metadata": {
  "kernelspec": {
   "display_name": "Python 3",
   "language": "python",
   "name": "python3"
  },
  "language_info": {
   "codemirror_mode": {
    "name": "ipython",
    "version": 3
   },
   "file_extension": ".py",
   "mimetype": "text/x-python",
   "name": "python",
   "nbconvert_exporter": "python",
   "pygments_lexer": "ipython3",
   "version": "3.7.3"
  }
 },
 "nbformat": 4,
 "nbformat_minor": 2
}
